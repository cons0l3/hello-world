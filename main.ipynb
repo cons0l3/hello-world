{
 "cells": [
  {
   "cell_type": "code",
   "execution_count": 1,
   "metadata": {},
   "outputs": [
    {
     "name": "stdout",
     "output_type": "stream",
     "text": [
      "  % Total    % Received % Xferd  Average Speed   Time    Time     Time  Current\n",
      "                                 Dload  Upload   Total   Spent    Left  Speed\n",
      "100 5908k  100 5908k    0     0  1449k      0  0:00:04  0:00:04 --:--:-- 1449k\n",
      "Archive:  50000-Records.zip\n",
      "  inflating: 50000 Records.csv       \n",
      "Stage is cached, skipping.\n",
      "\u001b[0mOn branch master\n",
      "Your branch is ahead of 'origin/master' by 1 commit.\n",
      "  (use \"git push\" to publish your local commits)\n",
      "\n",
      "nothing to commit, working tree clean\n",
      "Fatal: create repository at /tmp/restic-repo failed: config file already exists\n",
      "\n",
      "password is correct\n",
      "using parent snapshot 5c120507\n",
      "scan [/home/jovyan/data]\n",
      "\u001b[2Kscanned 2 directories, 5 files in 0:00\n",
      "\u001b[2K[0:00] 100.00%  26.517 MiB / 26.517 MiB  7 / 7 items  0 errors  ETA 0:00 \n",
      "duration: 0:00\n",
      "snapshot b1cb6623 saved\n"
     ]
    }
   ],
   "source": [
    "%run ./load_data.ipynb"
   ]
  },
  {
   "cell_type": "code",
   "execution_count": 2,
   "metadata": {},
   "outputs": [
    {
     "name": "stdout",
     "output_type": "stream",
     "text": [
      "password is correct\n",
      "ID        Date                 Host                                        Tags        Directory\n",
      "----------------------------------------------------------------------\n",
      "5c120507  2019-10-23 12:48:59  jupyter-cons0l3-2dhello-2dworld-2ddtoum1vp              /home/jovyan/data\n",
      "b1cb6623  2019-10-23 12:57:54  jupyter-cons0l3-2dhello-2dworld-2ddtoum1vp              /home/jovyan/data\n",
      "----------------------------------------------------------------------\n",
      "2 snapshots\n"
     ]
    }
   ],
   "source": [
    "!RESTIC_PASSWORD=hello restic snapshots -r /tmp/restic-repo"
   ]
  },
  {
   "cell_type": "code",
   "execution_count": 3,
   "metadata": {},
   "outputs": [
    {
     "name": "stdout",
     "output_type": "stream",
     "text": [
      "password is correct\n",
      "comparing snapshot 5c120507 to b1cb6623:\n",
      "\n",
      "+    /data/.ipynb_checkpoints/\n",
      "+    /data/.ipynb_checkpoints/partner-checkpoint.csv\n",
      "\n",
      "Files:           1 new,     0 removed,     0 changed\n",
      "Dirs:            1 new,     0 removed\n",
      "Others:          0 new,     0 removed\n",
      "Data Blobs:      0 new,     0 removed\n",
      "Tree Blobs:      2 new,     1 removed\n",
      "  Added:   3.191 KiB\n",
      "  Removed: 1.889 KiB\n"
     ]
    }
   ],
   "source": [
    "!RESTIC_PASSWORD=hello restic diff -r /tmp/restic-repo 5c120507 b1cb6623"
   ]
  },
  {
   "cell_type": "code",
   "execution_count": null,
   "metadata": {},
   "outputs": [],
   "source": []
  }
 ],
 "metadata": {
  "kernelspec": {
   "display_name": "Python 3",
   "language": "python",
   "name": "python3"
  },
  "language_info": {
   "codemirror_mode": {
    "name": "ipython",
    "version": 3
   },
   "file_extension": ".py",
   "mimetype": "text/x-python",
   "name": "python",
   "nbconvert_exporter": "python",
   "pygments_lexer": "ipython3",
   "version": "3.7.3"
  }
 },
 "nbformat": 4,
 "nbformat_minor": 2
}
