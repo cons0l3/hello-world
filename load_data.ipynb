{
 "cells": [
  {
   "cell_type": "markdown",
   "metadata": {},
   "source": [
    "# download file from source system\n",
    "# unzip\n",
    "# move and rename\n",
    "# generate new snapshot via restic\n",
    "# add to dvc"
   ]
  },
  {
   "cell_type": "code",
   "execution_count": 2,
   "metadata": {},
   "outputs": [
    {
     "name": "stdout",
     "output_type": "stream",
     "text": [
      "  % Total    % Received % Xferd  Average Speed   Time    Time     Time  Current\n",
      "                                 Dload  Upload   Total   Spent    Left  Speed\n",
      "100 5908k  100 5908k    0     0   520k      0  0:00:11  0:00:11 --:--:--  988k\n",
      "Archive:  50000-Records.zip\n",
      "  inflating: 50000 Records.csv       \n"
     ]
    }
   ],
   "source": [
    "!curl -O -L http://eforexcel.com/wp/wp-content/uploads/2017/07/50000-Records.zip \n",
    "!unzip -o 50000-Records.zip\n",
    "!mv -nv '50000 Records.csv' data/partner.csv\n",
    "!rm 50000-Records.zip '50000 Records.csv'"
   ]
  },
  {
   "cell_type": "code",
   "execution_count": 3,
   "metadata": {},
   "outputs": [
    {
     "name": "stdout",
     "output_type": "stream",
     "text": [
      "Stage is cached, skipping.\n",
      "\u001b[0m"
     ]
    }
   ],
   "source": [
    "!dvc add data/partner.csv"
   ]
  },
  {
   "cell_type": "code",
   "execution_count": 4,
   "metadata": {},
   "outputs": [
    {
     "name": "stdout",
     "output_type": "stream",
     "text": [
      "On branch master\n",
      "Your branch is up to date with 'origin/master'.\n",
      "\n",
      "Changes to be committed:\n",
      "  (use \"git reset HEAD <file>...\" to unstage)\n",
      "\n",
      "\t\u001b[32mnew file:   load_data.ipynb\u001b[m\n",
      "\n",
      "Changes not staged for commit:\n",
      "  (use \"git add <file>...\" to update what will be committed)\n",
      "  (use \"git checkout -- <file>...\" to discard changes in working directory)\n",
      "\n",
      "\t\u001b[31mmodified:   load_data.ipynb\u001b[m\n",
      "\n"
     ]
    }
   ],
   "source": [
    "!git status"
   ]
  },
  {
   "cell_type": "code",
   "execution_count": 2,
   "metadata": {},
   "outputs": [
    {
     "name": "stdout",
     "output_type": "stream",
     "text": [
      "created restic repository 6c7d48004c at /tmp/restic-repo\n",
      "\n",
      "Please note that knowledge of your password is required to access\n",
      "the repository. Losing your password means that your data is\n",
      "irrecoverably lost.\n"
     ]
    }
   ],
   "source": [
    "!RESTIC_PASSWORD=hello restic init -r /tmp/restic-repo"
   ]
  },
  {
   "cell_type": "code",
   "execution_count": 4,
   "metadata": {},
   "outputs": [
    {
     "name": "stdout",
     "output_type": "stream",
     "text": [
      "password is correct\n",
      "scan [/home/jovyan/data]\n",
      "\u001b[2Kscanned 1 directories, 4 files in 0:00\n",
      "\u001b[2K[0:00] 100.00%  13.259 MiB / 13.259 MiB  5 / 5 items  0 errors  ETA 0:00 \n",
      "duration: 0:00\n",
      "snapshot 5c120507 saved\n"
     ]
    }
   ],
   "source": [
    "!RESTIC_PASSWORD=hello restic backup -r /tmp/restic-repo data/"
   ]
  },
  {
   "cell_type": "code",
   "execution_count": null,
   "metadata": {},
   "outputs": [],
   "source": []
  }
 ],
 "metadata": {
  "kernelspec": {
   "display_name": "Python 3",
   "language": "python",
   "name": "python3"
  },
  "language_info": {
   "codemirror_mode": {
    "name": "ipython",
    "version": 3
   },
   "file_extension": ".py",
   "mimetype": "text/x-python",
   "name": "python",
   "nbconvert_exporter": "python",
   "pygments_lexer": "ipython3",
   "version": "3.7.3"
  }
 },
 "nbformat": 4,
 "nbformat_minor": 2
}
